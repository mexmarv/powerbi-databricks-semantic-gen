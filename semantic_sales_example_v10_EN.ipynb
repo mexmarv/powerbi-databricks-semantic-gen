{
 "cells": [
  {
   "cell_type": "markdown",
   "id": "c12fb150",
   "metadata": {},
   "source": [
    "# Semantic Layer Notebook: Sales (Simulated Example)\n",
    "\n",
    "This notebook was auto-generated. It contains SQL views, business rules, translated DAX measures to PySpark, and Delta materialization."
   ]
  },
  {
   "cell_type": "markdown",
   "id": "b29531db",
   "metadata": {},
   "source": [
    "## View base: `FactSales`"
   ]
  },
  {
   "cell_type": "code",
   "execution_count": null,
   "id": "63826462",
   "metadata": {},
   "outputs": [],
   "source": [
    "CREATE OR REPLACE VIEW semantic.FactSales AS\n",
    "SELECT * FROM raw.FactSales;"
   ]
  },
  {
   "cell_type": "code",
   "execution_count": null,
   "id": "649151fc",
   "metadata": {},
   "outputs": [],
   "source": [
    "CREATE OR REPLACE TABLE semantic.FactSales AS\n",
    "SELECT * FROM semantic.FactSales;"
   ]
  },
  {
   "cell_type": "markdown",
   "id": "4144b9cd",
   "metadata": {},
   "source": [
    "### ✍️ Ejemplo de regla semántica"
   ]
  },
  {
   "cell_type": "code",
   "execution_count": null,
   "id": "07bbbcd5",
   "metadata": {},
   "outputs": [],
   "source": [
    "# from pyspark.sql import functions as F\n",
    "# df = spark.table(\"semantic.FactSales\")\n",
    "# df = df.withColumn(\"BanderaAltaVenta\", F.when(F.col(\"SalesAmount\") > 1000, 1).otherwise(0))\n",
    "# df.write.format(\"delta\").mode(\"overwrite\").saveAsTable(\"semantic.FactSales_ConReglas\")\n"
   ]
  },
  {
   "cell_type": "markdown",
   "id": "e699146a",
   "metadata": {},
   "source": [
    "## View enriquecida: `vw_FactSales` con JOIN `CustomerKey = CustomerKey`"
   ]
  },
  {
   "cell_type": "code",
   "execution_count": null,
   "id": "869716da",
   "metadata": {},
   "outputs": [],
   "source": [
    "CREATE OR REPLACE VIEW semantic.vw_FactSales AS\n",
    "SELECT f.*, d.*\n",
    "FROM raw.FactSales f\n",
    "LEFT JOIN raw.DimCustomer d ON f.CustomerKey = d.CustomerKey;"
   ]
  },
  {
   "cell_type": "code",
   "execution_count": null,
   "id": "e4bd3ffa",
   "metadata": {},
   "outputs": [],
   "source": [
    "CREATE OR REPLACE TABLE semantic.FactSales_Materializada AS\n",
    "SELECT * FROM semantic.vw_FactSales;"
   ]
  },
  {
   "cell_type": "markdown",
   "id": "7df43f65",
   "metadata": {},
   "source": [
    "### Measure: `VentasAltas`\n",
    "**DAX original:** `CALCULATE(SUM(FactSales[SalesAmount]), FILTER(FactSales, FactSales[SalesAmount] > 1000))`"
   ]
  },
  {
   "cell_type": "code",
   "execution_count": null,
   "id": "e3376c44",
   "metadata": {},
   "outputs": [],
   "source": [
    "from pyspark.sql import functions as F\n",
    "df = spark.table(\"semantic.FactSales\")\n",
    "df_filtered = df.filter(F.col(\"SalesAmount\") > 1000)\n",
    "ventasaltas = df_filtered.agg(F.sum(\"SalesAmount\")).collect()[0][0]\n",
    "print(\"VentasAltas:\", ventasaltas)\n"
   ]
  },
  {
   "cell_type": "markdown",
   "id": "dc4a936c",
   "metadata": {},
   "source": [
    "### Measure: `ClientesÚnicos`\n",
    "**DAX original:** `DISTINCTCOUNT(FactSales[CustomerKey])`"
   ]
  },
  {
   "cell_type": "code",
   "execution_count": null,
   "id": "04b5e5a4",
   "metadata": {},
   "outputs": [],
   "source": [
    "df = spark.table(\"semantic.FactSales\")\n",
    "resultado = df.select(\"CustomerKey\").distinct().count()"
   ]
  },
  {
   "cell_type": "markdown",
   "id": "a99e36cb",
   "metadata": {},
   "source": [
    "### ✅ Materialization Activated"
   ]
  },
  {
   "cell_type": "code",
   "execution_count": null,
   "id": "7a9de8b9",
   "metadata": {},
   "outputs": [],
   "source": [
    "# Output: materialize = True\n",
    "print(\"Materialization flag is active. Tables will be created.\")"
   ]
  }
 ],
 "metadata": {},
 "nbformat": 4,
 "nbformat_minor": 5
}
